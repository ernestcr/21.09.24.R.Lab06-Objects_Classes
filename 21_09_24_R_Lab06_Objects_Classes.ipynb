{
  "nbformat": 4,
  "nbformat_minor": 0,
  "metadata": {
    "kernelspec": {
      "display_name": "R",
      "language": "R",
      "name": "ir"
    },
    "language_info": {
      "codemirror_mode": "r",
      "file_extension": ".r",
      "mimetype": "text/x-r-source",
      "name": "R",
      "pygments_lexer": "r",
      "version": "3.5.0"
    },
    "colab": {
      "name": "21.09.24.R.Lab06-Objects_Classes.ipynb",
      "provenance": [],
      "include_colab_link": true
    }
  },
  "cells": [
    {
      "cell_type": "markdown",
      "metadata": {
        "id": "view-in-github",
        "colab_type": "text"
      },
      "source": [
        "<a href=\"https://colab.research.google.com/github/ernestcr/21.09.24.R.Lab06-Objects_Classes/blob/main/21_09_24_R_Lab06_Objects_Classes.ipynb\" target=\"_parent\"><img src=\"https://colab.research.google.com/assets/colab-badge.svg\" alt=\"Open In Colab\"/></a>"
      ]
    },
    {
      "cell_type": "markdown",
      "metadata": {
        "id": "UvaF5nPs4-n4"
      },
      "source": [
        "<img src=\"http://cognitiveclass.ai/wp-content/uploads/2017/11/cc-logo-square.png\" width=\"150\">\n",
        "\n",
        "<h1 align=center>R OBJECTS and CLASSES</h1> \n"
      ]
    },
    {
      "cell_type": "markdown",
      "metadata": {
        "id": "qgCruenB4-n9"
      },
      "source": [
        "## Table of Contents\n",
        "\n",
        "<div class=\"alert alert-block alert-info\" style=\"margin-top: 20px\">\n",
        "<li><a href=\"#About-the-Dataset\">About the Dataset</a></li>\n",
        "<li><a href=\"#What-is-an-Object?\">What is an Object?</a></li>\n",
        "<li><a href=\"#Converting-One-Class-to-Another\">Converting One Class to Another</a></li>\n",
        "<li><a href=\"#Difference-Between-Class-and-Mode\">Difference Between Class and Mode</a></li>\n",
        "<li><a href=\"#Attributes\">Attributes</a></li>\n",
        "<br>\n",
        "<p></p>\n",
        "Estimated Time Needed: <strong>20 min</strong>\n",
        "</div>\n",
        "\n",
        "<hr>\n"
      ]
    },
    {
      "cell_type": "markdown",
      "metadata": {
        "id": "4ViryMFi4-n-"
      },
      "source": [
        "<a id=\"ref0\"></a>\n",
        "\n",
        "<h2 align=center>About the Dataset</h2>\n"
      ]
    },
    {
      "cell_type": "markdown",
      "metadata": {
        "id": "2pudLCIC4-n-"
      },
      "source": [
        "Imagine you got many movie recomendations from your friends and compiled all of the recomendations in a table, with specific info about each movie.\n",
        "\n",
        "The table has one row for each movie and several columns\n",
        "\n",
        "-   **name** - The name of the movie\n",
        "-   **year** - The year the movie was released\n",
        "-   **length_min** - The lenght of the movie in minutes\n",
        "-   **genre** - The genre of the movie\n",
        "-   **average_rating** - Average rating on Imdb\n",
        "-   **cost_millions** - The movie's production cost in millions\n",
        "-   **sequences** - The amount of sequences\n",
        "-   **foreign** - Indicative of whether the movie is foreign (1) or domestic (0)\n",
        "-   **age_restriction** - The age restriction for the movie\n",
        "    <br>\n",
        "\n",
        "Part of the table can be seen here\n",
        "\n",
        "<img src = \"https://ibm.box.com/shared/static/6kr8sg0n6pc40zd1xn6hjhtvy3k7cmeq.png\" align = \"center\">\n"
      ]
    },
    {
      "cell_type": "markdown",
      "metadata": {
        "id": "XkeAiW_24-n_"
      },
      "source": [
        "Now, we are going to take a look at how R is storing and outputing the results of its objects. In other words, we'll find out how R can handle different kinds of data.\n"
      ]
    },
    {
      "cell_type": "markdown",
      "metadata": {
        "id": "8m5-GBwW4-oA"
      },
      "source": [
        "<hr>\n"
      ]
    },
    {
      "cell_type": "markdown",
      "metadata": {
        "id": "zpbvlx474-oA"
      },
      "source": [
        "<a id=\"ref1\"></a>\n",
        "\n",
        "<center><h2>What is an Object?</h2></center>\n",
        "\n",
        "Everthing that you manipulate in R, literally every entity in R, is considered an **object**. In real life, we think of an object as something that we can hold and look at. R objects are a lot like that. For example, vector is one of the objects in R. \n",
        "\n",
        "An object in R has different kinds of properties or attributes. One of the attributes in objects is called the **class** of the object. The **class** of an object is the data type of this object. For instance, the class of vector can be numeric if it's composed of numeric values or character if it's composed of string values. The various classes (data types) of objects in R are important for data science programming.\n"
      ]
    },
    {
      "cell_type": "markdown",
      "metadata": {
        "id": "bqjFRpmc4-oB"
      },
      "source": [
        "### Class\n",
        "\n",
        "<p>The most common classes (data types) of objects in R are:</p>\n",
        "\n",
        "<ul>\n",
        "<li>numeric (real numbers)</li>\n",
        "<li>character</li>\n",
        "<li>integer</li>\n",
        "<li>logical (True/False)</li>\n",
        "<li>complex</li>\n",
        "</ul>\n"
      ]
    },
    {
      "cell_type": "markdown",
      "metadata": {
        "id": "ePfeoFGA4-oC"
      },
      "source": [
        "If you want to know about the data type of your values, you can use the **\"class()\"** function and add the variables' name to it. Let's create a variable from the average rating of some movies and then find which data types they belong to:\n"
      ]
    },
    {
      "cell_type": "code",
      "metadata": {
        "colab": {
          "base_uri": "https://localhost:8080/",
          "height": 33
        },
        "id": "uA0l106d4-oD",
        "outputId": "140dfaee-7d6e-4255-d168-3f027c003a94"
      },
      "source": [
        "movie_rating <- c(8.3, 5.2, 9.3, 8.0) # create a vector from average ratings \n",
        "movie_rating # print the variable"
      ],
      "execution_count": null,
      "outputs": [
        {
          "output_type": "display_data",
          "data": {
            "text/plain": [
              "[1] 8.3 5.2 9.3 8.0"
            ],
            "text/latex": "\\begin{enumerate*}\n\\item 8.3\n\\item 5.2\n\\item 9.3\n\\item 8\n\\end{enumerate*}\n",
            "text/markdown": "1. 8.3\n2. 5.2\n3. 9.3\n4. 8\n\n\n",
            "text/html": [
              "<style>\n",
              ".list-inline {list-style: none; margin:0; padding: 0}\n",
              ".list-inline>li {display: inline-block}\n",
              ".list-inline>li:not(:last-child)::after {content: \"\\00b7\"; padding: 0 .5ex}\n",
              "</style>\n",
              "<ol class=list-inline><li>8.3</li><li>5.2</li><li>9.3</li><li>8</li></ol>\n"
            ]
          },
          "metadata": {}
        }
      ]
    },
    {
      "cell_type": "markdown",
      "metadata": {
        "id": "7qHnmQFv4-oF"
      },
      "source": [
        "To check what is the data type, let's use **class()**\n"
      ]
    },
    {
      "cell_type": "code",
      "metadata": {
        "scrolled": true,
        "colab": {
          "base_uri": "https://localhost:8080/",
          "height": 33
        },
        "id": "Ay7h2t-D4-oF",
        "outputId": "d64cb7d6-a10a-4be0-8180-42438ea41d8f"
      },
      "source": [
        "class(movie_rating) # show the variable's data type"
      ],
      "execution_count": null,
      "outputs": [
        {
          "output_type": "display_data",
          "data": {
            "text/plain": [
              "[1] \"numeric\""
            ],
            "text/latex": "'numeric'",
            "text/markdown": "'numeric'",
            "text/html": [
              "'numeric'"
            ]
          },
          "metadata": {}
        }
      ]
    },
    {
      "cell_type": "markdown",
      "metadata": {
        "id": "3kmor0EF4-oG"
      },
      "source": [
        "As you see, the **class()** function shows that the data type of values in the vector is **numeric**.\n"
      ]
    },
    {
      "cell_type": "markdown",
      "metadata": {
        "id": "LZtpXoGr4-oG"
      },
      "source": [
        "<div class=\"alert alert-success alertsuccess\" style=\"margin-top: 20px\">\n",
        "**Tip:** A vector can only contain objects of the same class. However, a list can have different data types. \n",
        "</div>\n"
      ]
    },
    {
      "cell_type": "markdown",
      "metadata": {
        "id": "qoo5KRgI4-oG"
      },
      "source": [
        "### Numeric\n",
        "\n",
        "Decimal values are called numerics. They are the default computational data type in R. In the example below, If we assign a decimal value to a variable average_rating, then average_rating will be of numeric type.\n"
      ]
    },
    {
      "cell_type": "code",
      "metadata": {
        "colab": {
          "base_uri": "https://localhost:8080/",
          "height": 33
        },
        "id": "sjQtx93Z4-oH",
        "outputId": "ef3e1648-cad8-4438-de40-cfb98925be99"
      },
      "source": [
        "average_rating <- 8.3       # assign a decimal value\n",
        "average_rating           "
      ],
      "execution_count": null,
      "outputs": [
        {
          "output_type": "display_data",
          "data": {
            "text/plain": [
              "[1] 8.3"
            ],
            "text/latex": "8.3",
            "text/markdown": "8.3",
            "text/html": [
              "8.3"
            ]
          },
          "metadata": {}
        }
      ]
    },
    {
      "cell_type": "markdown",
      "metadata": {
        "id": "Un9gJNpw4-oH"
      },
      "source": [
        "Using **class** to check the data type results in **numeric**\n"
      ]
    },
    {
      "cell_type": "code",
      "metadata": {
        "colab": {
          "base_uri": "https://localhost:8080/",
          "height": 33
        },
        "id": "HRb2AbC44-oH",
        "outputId": "4aa23548-d0b2-4b10-e9d4-0a5124b4d3b0"
      },
      "source": [
        "class(average_rating)      "
      ],
      "execution_count": null,
      "outputs": [
        {
          "output_type": "display_data",
          "data": {
            "text/plain": [
              "[1] \"numeric\""
            ],
            "text/latex": "'numeric'",
            "text/markdown": "'numeric'",
            "text/html": [
              "'numeric'"
            ]
          },
          "metadata": {}
        }
      ]
    },
    {
      "cell_type": "markdown",
      "metadata": {
        "id": "s8_QXe4V4-oH"
      },
      "source": [
        "### Character\n",
        "\n",
        "A character object is used to represent string values in R, strings are simply text values. \n"
      ]
    },
    {
      "cell_type": "code",
      "metadata": {
        "colab": {
          "base_uri": "https://localhost:8080/"
        },
        "id": "PCvf-sgt4-oI",
        "outputId": "dbae5da1-4e52-4dc2-ca36-132c0486abf2"
      },
      "source": [
        "movies <-c(\"Toy Story\", \"Akira\", \"The Breakfast Club\", \"The Artist\")\n",
        "movies\n",
        "class(movies)"
      ],
      "execution_count": null,
      "outputs": [
        {
          "output_type": "display_data",
          "data": {
            "text/plain": [
              "[1] \"Toy Story\"          \"Akira\"              \"The Breakfast Club\"\n",
              "[4] \"The Artist\"        "
            ],
            "text/latex": "\\begin{enumerate*}\n\\item 'Toy Story'\n\\item 'Akira'\n\\item 'The Breakfast Club'\n\\item 'The Artist'\n\\end{enumerate*}\n",
            "text/markdown": "1. 'Toy Story'\n2. 'Akira'\n3. 'The Breakfast Club'\n4. 'The Artist'\n\n\n",
            "text/html": [
              "<style>\n",
              ".list-inline {list-style: none; margin:0; padding: 0}\n",
              ".list-inline>li {display: inline-block}\n",
              ".list-inline>li:not(:last-child)::after {content: \"\\00b7\"; padding: 0 .5ex}\n",
              "</style>\n",
              "<ol class=list-inline><li>'Toy Story'</li><li>'Akira'</li><li>'The Breakfast Club'</li><li>'The Artist'</li></ol>\n"
            ]
          },
          "metadata": {}
        },
        {
          "output_type": "display_data",
          "data": {
            "text/plain": [
              "[1] \"character\""
            ],
            "text/latex": "'character'",
            "text/markdown": "'character'",
            "text/html": [
              "'character'"
            ]
          },
          "metadata": {}
        }
      ]
    },
    {
      "cell_type": "markdown",
      "metadata": {
        "id": "Tzq_O6_g4-oI"
      },
      "source": [
        "If numbers and texts are combined in a vector, everything is converted to the class **character**. Let's make a vector from combined movie names and their production year, then find the data type for the vector\n"
      ]
    },
    {
      "cell_type": "code",
      "metadata": {
        "colab": {
          "base_uri": "https://localhost:8080/"
        },
        "id": "Z1Ppblaa4-oJ",
        "outputId": "1f62cef0-e77b-4b2d-adb6-7ab9f6b9f322"
      },
      "source": [
        "combined <- c(\"Toy Story\", 1995, \"Akira\", 1998)\n",
        "combined\n",
        "class(combined)"
      ],
      "execution_count": null,
      "outputs": [
        {
          "output_type": "display_data",
          "data": {
            "text/plain": [
              "[1] \"Toy Story\" \"1995\"      \"Akira\"     \"1998\"     "
            ],
            "text/latex": "\\begin{enumerate*}\n\\item 'Toy Story'\n\\item '1995'\n\\item 'Akira'\n\\item '1998'\n\\end{enumerate*}\n",
            "text/markdown": "1. 'Toy Story'\n2. '1995'\n3. 'Akira'\n4. '1998'\n\n\n",
            "text/html": [
              "<style>\n",
              ".list-inline {list-style: none; margin:0; padding: 0}\n",
              ".list-inline>li {display: inline-block}\n",
              ".list-inline>li:not(:last-child)::after {content: \"\\00b7\"; padding: 0 .5ex}\n",
              "</style>\n",
              "<ol class=list-inline><li>'Toy Story'</li><li>'1995'</li><li>'Akira'</li><li>'1998'</li></ol>\n"
            ]
          },
          "metadata": {}
        },
        {
          "output_type": "display_data",
          "data": {
            "text/plain": [
              "[1] \"character\""
            ],
            "text/latex": "'character'",
            "text/markdown": "'character'",
            "text/html": [
              "'character'"
            ]
          },
          "metadata": {}
        }
      ]
    },
    {
      "cell_type": "markdown",
      "metadata": {
        "id": "IjJqmOH44-oJ"
      },
      "source": [
        "When you simply enter numbers into R, they will be saved as class **numeric** by default. For example in the following vector, even though the numbers are integers, they are stored as numeric type in R:\n"
      ]
    },
    {
      "cell_type": "code",
      "metadata": {
        "colab": {
          "base_uri": "https://localhost:8080/"
        },
        "id": "6K2hyvbY4-oJ",
        "outputId": "6a18db81-2901-4fae-eb2a-eb89644652fd"
      },
      "source": [
        "movie_length <- c(80, 110, 90, 80) # create a vector from movie length\n",
        "movie_length # print the variable\n",
        "class(movie_length)"
      ],
      "execution_count": null,
      "outputs": [
        {
          "output_type": "display_data",
          "data": {
            "text/plain": [
              "[1]  80 110  90  80"
            ],
            "text/latex": "\\begin{enumerate*}\n\\item 80\n\\item 110\n\\item 90\n\\item 80\n\\end{enumerate*}\n",
            "text/markdown": "1. 80\n2. 110\n3. 90\n4. 80\n\n\n",
            "text/html": [
              "<style>\n",
              ".list-inline {list-style: none; margin:0; padding: 0}\n",
              ".list-inline>li {display: inline-block}\n",
              ".list-inline>li:not(:last-child)::after {content: \"\\00b7\"; padding: 0 .5ex}\n",
              "</style>\n",
              "<ol class=list-inline><li>80</li><li>110</li><li>90</li><li>80</li></ol>\n"
            ]
          },
          "metadata": {}
        },
        {
          "output_type": "display_data",
          "data": {
            "text/plain": [
              "[1] \"numeric\""
            ],
            "text/latex": "'numeric'",
            "text/markdown": "'numeric'",
            "text/html": [
              "'numeric'"
            ]
          },
          "metadata": {}
        }
      ]
    },
    {
      "cell_type": "markdown",
      "metadata": {
        "id": "HSLEOg6A4-oJ"
      },
      "source": [
        "### Integer\n",
        "\n",
        "An integer is a number that can be written without a fractional component. For example, 21, 4, 0, and −2048 are integers, while 9.75, 5 1⁄2, and √2 are not. In R, when you create a variable from the mentioned numbers, they are not going to be stored as integer data type. In order to get the integer class we need to convert the variable type from numeric to integer using **as.integer()** function. Let's create a vector and check if the data type is numeric.\n"
      ]
    },
    {
      "cell_type": "code",
      "metadata": {
        "colab": {
          "base_uri": "https://localhost:8080/"
        },
        "id": "ct2n4rDN4-oK",
        "outputId": "d751bdb8-ce5c-4aef-9577-710f9bbb0852"
      },
      "source": [
        "age_restriction <- c(12, 10, 18, 18) # create a vector from age restriction\n",
        "age_restriction # print the vector\n",
        "\n",
        "class(age_restriction)"
      ],
      "execution_count": null,
      "outputs": [
        {
          "output_type": "display_data",
          "data": {
            "text/plain": [
              "[1] 12 10 18 18"
            ],
            "text/latex": "\\begin{enumerate*}\n\\item 12\n\\item 10\n\\item 18\n\\item 18\n\\end{enumerate*}\n",
            "text/markdown": "1. 12\n2. 10\n3. 18\n4. 18\n\n\n",
            "text/html": [
              "<style>\n",
              ".list-inline {list-style: none; margin:0; padding: 0}\n",
              ".list-inline>li {display: inline-block}\n",
              ".list-inline>li:not(:last-child)::after {content: \"\\00b7\"; padding: 0 .5ex}\n",
              "</style>\n",
              "<ol class=list-inline><li>12</li><li>10</li><li>18</li><li>18</li></ol>\n"
            ]
          },
          "metadata": {}
        },
        {
          "output_type": "display_data",
          "data": {
            "text/plain": [
              "[1] \"numeric\""
            ],
            "text/latex": "'numeric'",
            "text/markdown": "'numeric'",
            "text/html": [
              "'numeric'"
            ]
          },
          "metadata": {}
        }
      ]
    },
    {
      "cell_type": "code",
      "metadata": {
        "colab": {
          "base_uri": "https://localhost:8080/"
        },
        "id": "b95E2GHQ4-oK",
        "outputId": "ae8407ae-39dd-48fa-b230-4ba65802d969"
      },
      "source": [
        "integer_vector <- as.integer(age_restriction)\n",
        "class(integer_vector)"
      ],
      "execution_count": null,
      "outputs": [
        {
          "output_type": "display_data",
          "data": {
            "text/plain": [
              "[1] \"integer\""
            ],
            "text/latex": "'integer'",
            "text/markdown": "'integer'",
            "text/html": [
              "'integer'"
            ]
          },
          "metadata": {}
        }
      ]
    },
    {
      "cell_type": "markdown",
      "metadata": {
        "id": "lvqFC21-4-oK"
      },
      "source": [
        "### Logical\n",
        "\n",
        "The logical class contains True/False values (Boolean values). Let's create a vector with logical values and check its class: \n"
      ]
    },
    {
      "cell_type": "code",
      "metadata": {
        "colab": {
          "base_uri": "https://localhost:8080/"
        },
        "id": "tESiHZy14-oK",
        "outputId": "14c8cd23-dc91-4fcf-8c3d-999cf9d2a347"
      },
      "source": [
        "logical_vector <- c(T,F,F,T,T) # creating the vector\n",
        "class(logical_vector)"
      ],
      "execution_count": null,
      "outputs": [
        {
          "output_type": "display_data",
          "data": {
            "text/plain": [
              "[1] \"logical\""
            ],
            "text/latex": "'logical'",
            "text/markdown": "'logical'",
            "text/html": [
              "'logical'"
            ]
          },
          "metadata": {}
        }
      ]
    },
    {
      "cell_type": "markdown",
      "metadata": {
        "id": "lNuF1lTQ4-oK"
      },
      "source": [
        "A logical value is often created via comparison between variables. In the below example, we will compare the length of movies **<i>Toy Story and Akira</i>**.\n"
      ]
    },
    {
      "cell_type": "code",
      "metadata": {
        "id": "hR3dUySc4-oL"
      },
      "source": [
        "length_Akira <- 125\n",
        "length_ToyStory <- 81"
      ],
      "execution_count": null,
      "outputs": []
    },
    {
      "cell_type": "markdown",
      "metadata": {
        "id": "U7BQiWwM4-oL"
      },
      "source": [
        "If we assign the result of the compare statement to a variable the variable will have FALSE if the statement was false, and TRUE if the statement is true.\n"
      ]
    },
    {
      "cell_type": "code",
      "metadata": {
        "colab": {
          "base_uri": "https://localhost:8080/"
        },
        "id": "oHNS9Mk94-oL",
        "outputId": "538b60a8-8ca9-4505-8cd5-4b0a9abc98c4"
      },
      "source": [
        "x <- length_ToyStory > length_Akira      # is ToyStory larger than akira? \n",
        "x              "
      ],
      "execution_count": null,
      "outputs": [
        {
          "output_type": "display_data",
          "data": {
            "text/plain": [
              "[1] FALSE"
            ],
            "text/latex": "FALSE",
            "text/markdown": "FALSE",
            "text/html": [
              "FALSE"
            ]
          },
          "metadata": {}
        }
      ]
    },
    {
      "cell_type": "code",
      "metadata": {
        "colab": {
          "base_uri": "https://localhost:8080/"
        },
        "id": "rUG6ehPL4-oL",
        "outputId": "ba66fb28-cbb2-4fcf-f734-413c38783656"
      },
      "source": [
        "x <- length_Akira > length_ToyStory # is akira larger than ToyStory?               \n",
        "x # print the logical value"
      ],
      "execution_count": null,
      "outputs": [
        {
          "output_type": "display_data",
          "data": {
            "text/plain": [
              "[1] TRUE"
            ],
            "text/latex": "TRUE",
            "text/markdown": "TRUE",
            "text/html": [
              "TRUE"
            ]
          },
          "metadata": {}
        }
      ]
    },
    {
      "cell_type": "markdown",
      "metadata": {
        "id": "WXTKCfYK4-oL"
      },
      "source": [
        "The resulting variable is of type logical\n"
      ]
    },
    {
      "cell_type": "code",
      "metadata": {
        "colab": {
          "base_uri": "https://localhost:8080/"
        },
        "id": "TliqpBck4-oL",
        "outputId": "50b34971-db69-41b7-9699-464927bab0c1"
      },
      "source": [
        "class(x)       # print the class name of x"
      ],
      "execution_count": null,
      "outputs": [
        {
          "output_type": "display_data",
          "data": {
            "text/plain": [
              "[1] \"logical\""
            ],
            "text/latex": "'logical'",
            "text/markdown": "'logical'",
            "text/html": [
              "'logical'"
            ]
          },
          "metadata": {}
        }
      ]
    },
    {
      "cell_type": "markdown",
      "metadata": {
        "id": "bbnLwcg_4-oL"
      },
      "source": [
        "### Complex\n",
        "\n",
        "A complex number is a number that can be expressed in the form a + bi, where a and b are real numbers and i is the imaginary unit.\n"
      ]
    },
    {
      "cell_type": "code",
      "metadata": {
        "colab": {
          "base_uri": "https://localhost:8080/"
        },
        "id": "n4twvroa4-oM",
        "outputId": "c572a532-01a9-4b8e-ce18-2de4dbe684df"
      },
      "source": [
        "z = 8 + 6i     # create a complex number \n",
        "z"
      ],
      "execution_count": null,
      "outputs": [
        {
          "output_type": "display_data",
          "data": {
            "text/plain": [
              "[1] 8+6i"
            ],
            "text/latex": "8+6i",
            "text/markdown": "8+6i",
            "text/html": [
              "8+6i"
            ]
          },
          "metadata": {}
        }
      ]
    },
    {
      "cell_type": "code",
      "metadata": {
        "colab": {
          "base_uri": "https://localhost:8080/"
        },
        "id": "Kk3pbVTV4-oM",
        "outputId": "60af462e-cce1-4cfd-89e3-7095a0a6f84f"
      },
      "source": [
        "class(z)"
      ],
      "execution_count": null,
      "outputs": [
        {
          "output_type": "display_data",
          "data": {
            "text/plain": [
              "[1] \"complex\""
            ],
            "text/latex": "'complex'",
            "text/markdown": "'complex'",
            "text/html": [
              "'complex'"
            ]
          },
          "metadata": {}
        }
      ]
    },
    {
      "cell_type": "markdown",
      "metadata": {
        "id": "j-15bSOl4-oM"
      },
      "source": [
        "<hr>\n"
      ]
    },
    {
      "cell_type": "markdown",
      "metadata": {
        "id": "4ocj0Uy74-oM"
      },
      "source": [
        "<a id=\"ref2\"></a>\n",
        "\n",
        "<center><h2>Converting One Class to Another</h2></center>\n",
        "\n",
        "We can convert (coerce) one data type to another if we desire. For example, we can convert objects from other data types into character values with the **\"as.character()\"** function. In the following example, we convert numeric value into character:\n"
      ]
    },
    {
      "cell_type": "code",
      "metadata": {
        "colab": {
          "base_uri": "https://localhost:8080/"
        },
        "id": "nGKmUGed4-oM",
        "outputId": "568113de-41ed-431d-f594-5ce5b2d39726"
      },
      "source": [
        "year <- as.character(1995) # convert integer into character data type\n",
        "year                    # print the value of year in character data type"
      ],
      "execution_count": null,
      "outputs": [
        {
          "output_type": "display_data",
          "data": {
            "text/plain": [
              "[1] \"1995\""
            ],
            "text/latex": "'1995'",
            "text/markdown": "'1995'",
            "text/html": [
              "'1995'"
            ]
          },
          "metadata": {}
        }
      ]
    },
    {
      "cell_type": "markdown",
      "metadata": {
        "id": "fS06LNIk4-oM"
      },
      "source": [
        "As we mentioned before, in order to create an integer variable in R, we can use the **\"as.integer()\"** function. In the following example, even though the number is an integer data type, R saves the number as numeric data type by default. So you need to change the number to integer later if it is necessary.\n"
      ]
    },
    {
      "cell_type": "code",
      "metadata": {
        "colab": {
          "base_uri": "https://localhost:8080/"
        },
        "id": "KG6NvB7J4-oM",
        "outputId": "587eae70-47f6-4a7a-9378-cd39449f448a"
      },
      "source": [
        "Length_ToyStory <- 81\n",
        "class(81)"
      ],
      "execution_count": null,
      "outputs": [
        {
          "output_type": "display_data",
          "data": {
            "text/plain": [
              "[1] \"numeric\""
            ],
            "text/latex": "'numeric'",
            "text/markdown": "'numeric'",
            "text/html": [
              "'numeric'"
            ]
          },
          "metadata": {}
        }
      ]
    },
    {
      "cell_type": "code",
      "metadata": {
        "colab": {
          "base_uri": "https://localhost:8080/"
        },
        "id": "NigJoh6d4-oN",
        "outputId": "0070aa33-6450-4eab-8a64-47e8313972c3"
      },
      "source": [
        "length_ToyStory <- as.integer(81) \n",
        "class(length_ToyStory)       # print the class name of length_ToyStory"
      ],
      "execution_count": null,
      "outputs": [
        {
          "output_type": "display_data",
          "data": {
            "text/plain": [
              "[1] \"integer\""
            ],
            "text/latex": "'integer'",
            "text/markdown": "'integer'",
            "text/html": [
              "'integer'"
            ]
          },
          "metadata": {}
        }
      ]
    },
    {
      "cell_type": "markdown",
      "metadata": {
        "id": "o9XoO-KR4-oN"
      },
      "source": [
        "<hr>\n"
      ]
    },
    {
      "cell_type": "markdown",
      "metadata": {
        "id": "1uujCkWl4-oN"
      },
      "source": [
        "<a id=\"ref3\"></a>\n",
        "\n",
        "<center><h2>Difference between Class and Mode</h2></center>\n",
        "\n",
        "For a simple vector, the class and mode of the vector are the same thing: the data type of the values inside the vector (character, numeric, integer, etc). However, in some of other objects such as matrix, array, data frame, and list, class and mode means different things. \n",
        "\n",
        "In those mentioned objects, the **class()** function shows the type of the data structure. What does that mean? The class of matrix will be **matrix** regardless of what data types are **inside** the matrix. The same applies to list, array and data frame.\n",
        "\n",
        "**Mode** on the other hand, determines what types of data can be found within the object and how that values are stored. So, you need to use the **mode()** function to find the data type of values inside a matrix (character, numeric, integer, etc).\n",
        "\n",
        "So, in addition to the classes such as numeric, character, integer, logical, and complex, we have other classes such as matix, array, dataframe, and list\n"
      ]
    },
    {
      "cell_type": "markdown",
      "metadata": {
        "id": "69Xi0Qai4-oN"
      },
      "source": [
        "### Matrix\n",
        "\n",
        "Let’s create a matrix storing the genre for each movie. Then, we will find the class and mode of the created matrix to see which information we will get from them.\n",
        "\n",
        "First, let's check the effect of class and mode on a **vector**.\n"
      ]
    },
    {
      "cell_type": "code",
      "metadata": {
        "colab": {
          "base_uri": "https://localhost:8080/"
        },
        "id": "0TKfbPI74-oN",
        "outputId": "09a4cef0-823b-4a20-fab6-f1ec466c018f"
      },
      "source": [
        "movies <- c(\"Toy Story\", \"Akira\", \"The Breakfast Club\", \"The Artist\") # creating two vectors\n",
        "genre <- c(\"Animation/Adventure/Comedy\", \"Animation/Adventure/Comedy\", \"Comedy/Drama\", \"Comedy/Drama\")\n",
        "\n",
        "class(movies)\n",
        "mode(movies)"
      ],
      "execution_count": null,
      "outputs": [
        {
          "output_type": "display_data",
          "data": {
            "text/plain": [
              "[1] \"character\""
            ],
            "text/latex": "'character'",
            "text/markdown": "'character'",
            "text/html": [
              "'character'"
            ]
          },
          "metadata": {}
        },
        {
          "output_type": "display_data",
          "data": {
            "text/plain": [
              "[1] \"character\""
            ],
            "text/latex": "'character'",
            "text/markdown": "'character'",
            "text/html": [
              "'character'"
            ]
          },
          "metadata": {}
        }
      ]
    },
    {
      "cell_type": "markdown",
      "metadata": {
        "id": "ULIDuD3K4-oN"
      },
      "source": [
        "As you see in the above, for the vector the class and mode shows the data type of values. Now lets create a matrix from these two vectors.\n"
      ]
    },
    {
      "cell_type": "code",
      "metadata": {
        "scrolled": true,
        "colab": {
          "base_uri": "https://localhost:8080/"
        },
        "id": "3nGtQUdB4-oN",
        "outputId": "d6940b7b-c355-46cc-fa26-1012fe58b6c2"
      },
      "source": [
        "movies_genre <- cbind(movies, genre)\n",
        "movies_genre "
      ],
      "execution_count": null,
      "outputs": [
        {
          "output_type": "display_data",
          "data": {
            "text/plain": [
              "     movies             genre                     \n",
              "[1,] Toy Story          Animation/Adventure/Comedy\n",
              "[2,] Akira              Animation/Adventure/Comedy\n",
              "[3,] The Breakfast Club Comedy/Drama              \n",
              "[4,] The Artist         Comedy/Drama              "
            ],
            "text/latex": "A matrix: 4 × 2 of type chr\n\\begin{tabular}{ll}\n movies & genre\\\\\n\\hline\n\t Toy Story          & Animation/Adventure/Comedy\\\\\n\t Akira              & Animation/Adventure/Comedy\\\\\n\t The Breakfast Club & Comedy/Drama              \\\\\n\t The Artist         & Comedy/Drama              \\\\\n\\end{tabular}\n",
            "text/markdown": "\nA matrix: 4 × 2 of type chr\n\n| movies | genre |\n|---|---|\n| Toy Story          | Animation/Adventure/Comedy |\n| Akira              | Animation/Adventure/Comedy |\n| The Breakfast Club | Comedy/Drama               |\n| The Artist         | Comedy/Drama               |\n\n",
            "text/html": [
              "<table class=\"dataframe\">\n",
              "<caption>A matrix: 4 × 2 of type chr</caption>\n",
              "<thead>\n",
              "\t<tr><th scope=col>movies</th><th scope=col>genre</th></tr>\n",
              "</thead>\n",
              "<tbody>\n",
              "\t<tr><td>Toy Story         </td><td>Animation/Adventure/Comedy</td></tr>\n",
              "\t<tr><td>Akira             </td><td>Animation/Adventure/Comedy</td></tr>\n",
              "\t<tr><td>The Breakfast Club</td><td>Comedy/Drama              </td></tr>\n",
              "\t<tr><td>The Artist        </td><td>Comedy/Drama              </td></tr>\n",
              "</tbody>\n",
              "</table>\n"
            ]
          },
          "metadata": {}
        }
      ]
    },
    {
      "cell_type": "markdown",
      "metadata": {
        "id": "--TZiNtx4-oO"
      },
      "source": [
        "Now **class()** shows that the data type is **matrix**.\n"
      ]
    },
    {
      "cell_type": "code",
      "metadata": {
        "colab": {
          "base_uri": "https://localhost:8080/"
        },
        "id": "xsuVSXzs4-oO",
        "outputId": "bd7b492f-a03c-45c1-9519-1ddc567733b0"
      },
      "source": [
        "class(movies_genre)"
      ],
      "execution_count": null,
      "outputs": [
        {
          "output_type": "display_data",
          "data": {
            "text/plain": [
              "[1] \"matrix\" \"array\" "
            ],
            "text/latex": "\\begin{enumerate*}\n\\item 'matrix'\n\\item 'array'\n\\end{enumerate*}\n",
            "text/markdown": "1. 'matrix'\n2. 'array'\n\n\n",
            "text/html": [
              "<style>\n",
              ".list-inline {list-style: none; margin:0; padding: 0}\n",
              ".list-inline>li {display: inline-block}\n",
              ".list-inline>li:not(:last-child)::after {content: \"\\00b7\"; padding: 0 .5ex}\n",
              "</style>\n",
              "<ol class=list-inline><li>'matrix'</li><li>'array'</li></ol>\n"
            ]
          },
          "metadata": {}
        }
      ]
    },
    {
      "cell_type": "markdown",
      "metadata": {
        "id": "_ktf8nNx4-oO"
      },
      "source": [
        "And **mode** shows the data type of the elements of the matrix\n"
      ]
    },
    {
      "cell_type": "code",
      "metadata": {
        "colab": {
          "base_uri": "https://localhost:8080/"
        },
        "id": "lpLr-ks_4-oO",
        "outputId": "519742d3-6f84-47f5-b22a-fd18161109ce"
      },
      "source": [
        "mode(movies_genre)"
      ],
      "execution_count": null,
      "outputs": [
        {
          "output_type": "display_data",
          "data": {
            "text/plain": [
              "[1] \"character\""
            ],
            "text/latex": "'character'",
            "text/markdown": "'character'",
            "text/html": [
              "'character'"
            ]
          },
          "metadata": {}
        }
      ]
    },
    {
      "cell_type": "markdown",
      "metadata": {
        "id": "lIiBMTmk4-oO"
      },
      "source": [
        "For the matrix, the **class()** shows how the values are stored and shown in R, in this case, in a matrix. However, **mode()** shows the data type of values in the matrix. In the above example we have made a matrix filled with **character** values.\n"
      ]
    },
    {
      "cell_type": "markdown",
      "metadata": {
        "id": "0SpSQWvb4-oO"
      },
      "source": [
        "### Array\n",
        "\n",
        "A slightly more complicated version of the **matrix** data type is the\n",
        "**array** data type. The **array** data type can still only have one data\n",
        "type inside of it, but the set of data types it can store is larger. In addition\n",
        "to the data types an array can store matrices as its\n",
        "elements. In the following, we are going to create the array from integer number (1 to 12) and then compare the class and mode in an array: \n"
      ]
    },
    {
      "cell_type": "code",
      "metadata": {
        "colab": {
          "base_uri": "https://localhost:8080/"
        },
        "id": "JZb3gIoH4-oO",
        "outputId": "03bf04a0-476a-496e-801e-2022c4d2995b"
      },
      "source": [
        "sample_array <- array(1:12, dim = c(3, 2, 2)) # create an array with dimensions 3 x 2 x 2 \n",
        "sample_array\n",
        "class(sample_array)\n",
        "mode(sample_array)"
      ],
      "execution_count": null,
      "outputs": [
        {
          "output_type": "display_data",
          "data": {
            "text/plain": [
              ", , 1\n",
              "\n",
              "     [,1] [,2]\n",
              "[1,]    1    4\n",
              "[2,]    2    5\n",
              "[3,]    3    6\n",
              "\n",
              ", , 2\n",
              "\n",
              "     [,1] [,2]\n",
              "[1,]    7   10\n",
              "[2,]    8   11\n",
              "[3,]    9   12\n"
            ],
            "text/latex": "\\begin{enumerate*}\n\\item 1\n\\item 2\n\\item 3\n\\item 4\n\\item 5\n\\item 6\n\\item 7\n\\item 8\n\\item 9\n\\item 10\n\\item 11\n\\item 12\n\\end{enumerate*}\n",
            "text/markdown": "1. 1\n2. 2\n3. 3\n4. 4\n5. 5\n6. 6\n7. 7\n8. 8\n9. 9\n10. 10\n11. 11\n12. 12\n\n\n",
            "text/html": [
              "<style>\n",
              ".list-inline {list-style: none; margin:0; padding: 0}\n",
              ".list-inline>li {display: inline-block}\n",
              ".list-inline>li:not(:last-child)::after {content: \"\\00b7\"; padding: 0 .5ex}\n",
              "</style>\n",
              "<ol class=list-inline><li>1</li><li>2</li><li>3</li><li>4</li><li>5</li><li>6</li><li>7</li><li>8</li><li>9</li><li>10</li><li>11</li><li>12</li></ol>\n"
            ]
          },
          "metadata": {}
        },
        {
          "output_type": "display_data",
          "data": {
            "text/plain": [
              "[1] \"array\""
            ],
            "text/latex": "'array'",
            "text/markdown": "'array'",
            "text/html": [
              "'array'"
            ]
          },
          "metadata": {}
        },
        {
          "output_type": "display_data",
          "data": {
            "text/plain": [
              "[1] \"numeric\""
            ],
            "text/latex": "'numeric'",
            "text/markdown": "'numeric'",
            "text/html": [
              "'numeric'"
            ]
          },
          "metadata": {}
        }
      ]
    },
    {
      "cell_type": "markdown",
      "metadata": {
        "id": "u-zMX3cj4-oP"
      },
      "source": [
        "So, the array's class is **array** and its mode is **numeric**.\n"
      ]
    },
    {
      "cell_type": "markdown",
      "metadata": {
        "id": "O0LB_Z8F4-oP"
      },
      "source": [
        "### Data Frame\n",
        "\n",
        "Data frames are similar to arrays but they have certain advantages over arrays. Data frames allow you to associate each row and each column with a name of\n",
        "your choosing and allow **each column** of the data frame to have a **different\n",
        "data type** if you like. Let's create a data frame from the movie names, year and their length:\n"
      ]
    },
    {
      "cell_type": "code",
      "metadata": {
        "scrolled": true,
        "colab": {
          "base_uri": "https://localhost:8080/"
        },
        "id": "KwmwLWKo4-oP",
        "outputId": "4dafeba3-d5f8-47ec-c1ea-dd2a108394e0"
      },
      "source": [
        "Name <- c(\"Toy Story\", \"Akira\", \"The Breakfast Club\", \"The Artist\")\n",
        "Year <- c(1995, 1998, 1985, 2011)\n",
        "Length <- c(81, 125, 97, 100)\n",
        "RowNames = c(\"Movie 1\", \"Movie 2\", \"Movie 3\", \"Movie 4\")\n",
        "\n",
        "sample_DataFrame <- data.frame(Name, Year, Length, row.names=RowNames) \n",
        "sample_DataFrame\n",
        "\n",
        "class(sample_DataFrame)"
      ],
      "execution_count": null,
      "outputs": [
        {
          "output_type": "display_data",
          "data": {
            "text/plain": [
              "        Name               Year Length\n",
              "Movie 1 Toy Story          1995  81   \n",
              "Movie 2 Akira              1998 125   \n",
              "Movie 3 The Breakfast Club 1985  97   \n",
              "Movie 4 The Artist         2011 100   "
            ],
            "text/latex": "A data.frame: 4 × 3\n\\begin{tabular}{r|lll}\n  & Name & Year & Length\\\\\n  & <chr> & <dbl> & <dbl>\\\\\n\\hline\n\tMovie 1 & Toy Story          & 1995 &  81\\\\\n\tMovie 2 & Akira              & 1998 & 125\\\\\n\tMovie 3 & The Breakfast Club & 1985 &  97\\\\\n\tMovie 4 & The Artist         & 2011 & 100\\\\\n\\end{tabular}\n",
            "text/markdown": "\nA data.frame: 4 × 3\n\n| <!--/--> | Name &lt;chr&gt; | Year &lt;dbl&gt; | Length &lt;dbl&gt; |\n|---|---|---|---|\n| Movie 1 | Toy Story          | 1995 |  81 |\n| Movie 2 | Akira              | 1998 | 125 |\n| Movie 3 | The Breakfast Club | 1985 |  97 |\n| Movie 4 | The Artist         | 2011 | 100 |\n\n",
            "text/html": [
              "<table class=\"dataframe\">\n",
              "<caption>A data.frame: 4 × 3</caption>\n",
              "<thead>\n",
              "\t<tr><th></th><th scope=col>Name</th><th scope=col>Year</th><th scope=col>Length</th></tr>\n",
              "\t<tr><th></th><th scope=col>&lt;chr&gt;</th><th scope=col>&lt;dbl&gt;</th><th scope=col>&lt;dbl&gt;</th></tr>\n",
              "</thead>\n",
              "<tbody>\n",
              "\t<tr><th scope=row>Movie 1</th><td>Toy Story         </td><td>1995</td><td> 81</td></tr>\n",
              "\t<tr><th scope=row>Movie 2</th><td>Akira             </td><td>1998</td><td>125</td></tr>\n",
              "\t<tr><th scope=row>Movie 3</th><td>The Breakfast Club</td><td>1985</td><td> 97</td></tr>\n",
              "\t<tr><th scope=row>Movie 4</th><td>The Artist        </td><td>2011</td><td>100</td></tr>\n",
              "</tbody>\n",
              "</table>\n"
            ]
          },
          "metadata": {}
        },
        {
          "output_type": "display_data",
          "data": {
            "text/plain": [
              "[1] \"data.frame\""
            ],
            "text/latex": "'data.frame'",
            "text/markdown": "'data.frame'",
            "text/html": [
              "'data.frame'"
            ]
          },
          "metadata": {}
        }
      ]
    },
    {
      "cell_type": "markdown",
      "metadata": {
        "id": "VKh7C-S64-oP"
      },
      "source": [
        "So, the class of the above table is \"data.frame\".\n"
      ]
    },
    {
      "cell_type": "markdown",
      "metadata": {
        "id": "SIvtF-W24-oP"
      },
      "source": [
        "### List\n",
        "\n",
        "The final data type that we are going to go over is **list**. Lists\n",
        "are similar to vectors, but they can contain multiple data types. For example:\n"
      ]
    },
    {
      "cell_type": "code",
      "metadata": {
        "colab": {
          "base_uri": "https://localhost:8080/"
        },
        "id": "ZNfWtEiL4-oP",
        "outputId": "10db2787-e444-4da5-ebbd-d26e3b276a37"
      },
      "source": [
        "sample_List = list(\"Star Wars\", 8.7, TRUE)\n",
        "sample_List\n",
        "\n",
        "class(sample_List)\n",
        "\n",
        "mode(sample_List)\n",
        "\n",
        "mode(sample_List[[3]])"
      ],
      "execution_count": null,
      "outputs": [
        {
          "output_type": "display_data",
          "data": {
            "text/plain": [
              "[[1]]\n",
              "[1] \"Star Wars\"\n",
              "\n",
              "[[2]]\n",
              "[1] 8.7\n",
              "\n",
              "[[3]]\n",
              "[1] TRUE\n"
            ],
            "text/latex": "\\begin{enumerate}\n\\item 'Star Wars'\n\\item 8.7\n\\item TRUE\n\\end{enumerate}\n",
            "text/markdown": "1. 'Star Wars'\n2. 8.7\n3. TRUE\n\n\n",
            "text/html": [
              "<ol>\n",
              "\t<li>'Star Wars'</li>\n",
              "\t<li>8.7</li>\n",
              "\t<li>TRUE</li>\n",
              "</ol>\n"
            ]
          },
          "metadata": {}
        },
        {
          "output_type": "display_data",
          "data": {
            "text/plain": [
              "[1] \"list\""
            ],
            "text/latex": "'list'",
            "text/markdown": "'list'",
            "text/html": [
              "'list'"
            ]
          },
          "metadata": {}
        },
        {
          "output_type": "display_data",
          "data": {
            "text/plain": [
              "[1] \"list\""
            ],
            "text/latex": "'list'",
            "text/markdown": "'list'",
            "text/html": [
              "'list'"
            ]
          },
          "metadata": {}
        },
        {
          "output_type": "display_data",
          "data": {
            "text/plain": [
              "[1] \"logical\""
            ],
            "text/latex": "'logical'",
            "text/markdown": "'logical'",
            "text/html": [
              "'logical'"
            ]
          },
          "metadata": {}
        }
      ]
    },
    {
      "cell_type": "markdown",
      "metadata": {
        "id": "ZKgk8aCJ4-oP"
      },
      "source": [
        "As you see, we have character, numeric, and logical data types in the list. The data type of third element in the list is logical as the \"mode()\" function shows us. The **mode** for the entire list is **list**, it could show the type of all the elements, since they don't all have the same data type.\n"
      ]
    },
    {
      "cell_type": "markdown",
      "metadata": {
        "id": "ygBqLjgG4-oP"
      },
      "source": [
        "<hr>\n"
      ]
    },
    {
      "cell_type": "markdown",
      "metadata": {
        "id": "WYid2zF_4-oQ"
      },
      "source": [
        "<a id=\"ref4\"></a>\n",
        "\n",
        "<center><h2>Attributes</h2></center>\n",
        "\n",
        "Objects have one or more **attributes** that can modify how R thinks about the object. Imagine you have a  bowl of pasta and cheese. If you add spice, you change it to something with new taste. Different spices makes different dishes. \n",
        "\n",
        "Attributes are like spice. You can change any individual attribute of object with the **<i>attr()<i/>** function. You also can use the **attribute()** function to return a list of all of the attributes currently defined for that object. \n",
        "\n",
        "For example in the following code, we will create a vector from the average ratings (8.3, 8.1, 7.9, 8) and costs of four movies (30, 10.4, 1, 15), and then we change the **dim** attribute of the vector. R will now treat z as it were a 4-by-2 matrix.  \n"
      ]
    },
    {
      "cell_type": "code",
      "metadata": {
        "colab": {
          "base_uri": "https://localhost:8080/"
        },
        "id": "RgstrrCH4-oQ",
        "outputId": "a3cd7c65-3c88-4480-aca7-b6ec14081aaf"
      },
      "source": [
        "z <- c(8.3, 8.1, 7.9, 8, 30, 10.4, 1, 15)\n",
        "z\n",
        "attr(z, \"dim\") <- c(4,2)\n",
        "z"
      ],
      "execution_count": null,
      "outputs": [
        {
          "output_type": "display_data",
          "data": {
            "text/plain": [
              "[1]  8.3  8.1  7.9  8.0 30.0 10.4  1.0 15.0"
            ],
            "text/latex": "\\begin{enumerate*}\n\\item 8.3\n\\item 8.1\n\\item 7.9\n\\item 8\n\\item 30\n\\item 10.4\n\\item 1\n\\item 15\n\\end{enumerate*}\n",
            "text/markdown": "1. 8.3\n2. 8.1\n3. 7.9\n4. 8\n5. 30\n6. 10.4\n7. 1\n8. 15\n\n\n",
            "text/html": [
              "<style>\n",
              ".list-inline {list-style: none; margin:0; padding: 0}\n",
              ".list-inline>li {display: inline-block}\n",
              ".list-inline>li:not(:last-child)::after {content: \"\\00b7\"; padding: 0 .5ex}\n",
              "</style>\n",
              "<ol class=list-inline><li>8.3</li><li>8.1</li><li>7.9</li><li>8</li><li>30</li><li>10.4</li><li>1</li><li>15</li></ol>\n"
            ]
          },
          "metadata": {}
        },
        {
          "output_type": "display_data",
          "data": {
            "text/plain": [
              "     [,1] [,2]\n",
              "[1,] 8.3  30.0\n",
              "[2,] 8.1  10.4\n",
              "[3,] 7.9   1.0\n",
              "[4,] 8.0  15.0"
            ],
            "text/latex": "A matrix: 4 × 2 of type dbl\n\\begin{tabular}{ll}\n\t 8.3 & 30.0\\\\\n\t 8.1 & 10.4\\\\\n\t 7.9 &  1.0\\\\\n\t 8.0 & 15.0\\\\\n\\end{tabular}\n",
            "text/markdown": "\nA matrix: 4 × 2 of type dbl\n\n| 8.3 | 30.0 |\n| 8.1 | 10.4 |\n| 7.9 |  1.0 |\n| 8.0 | 15.0 |\n\n",
            "text/html": [
              "<table class=\"dataframe\">\n",
              "<caption>A matrix: 4 × 2 of type dbl</caption>\n",
              "<tbody>\n",
              "\t<tr><td>8.3</td><td>30.0</td></tr>\n",
              "\t<tr><td>8.1</td><td>10.4</td></tr>\n",
              "\t<tr><td>7.9</td><td> 1.0</td></tr>\n",
              "\t<tr><td>8.0</td><td>15.0</td></tr>\n",
              "</tbody>\n",
              "</table>\n"
            ]
          },
          "metadata": {}
        }
      ]
    },
    {
      "cell_type": "markdown",
      "metadata": {
        "id": "bkvoIiWa4-oQ"
      },
      "source": [
        "Now, we can find the class and mode of the above matrix.\n"
      ]
    },
    {
      "cell_type": "code",
      "metadata": {
        "colab": {
          "base_uri": "https://localhost:8080/"
        },
        "id": "j3EzQsMc4-oQ",
        "outputId": "cc7faf14-2380-4720-cd2d-77d79e6ba36d"
      },
      "source": [
        "class(z)\n",
        "mode(z)"
      ],
      "execution_count": null,
      "outputs": [
        {
          "output_type": "display_data",
          "data": {
            "text/plain": [
              "[1] \"matrix\" \"array\" "
            ],
            "text/latex": "\\begin{enumerate*}\n\\item 'matrix'\n\\item 'array'\n\\end{enumerate*}\n",
            "text/markdown": "1. 'matrix'\n2. 'array'\n\n\n",
            "text/html": [
              "<style>\n",
              ".list-inline {list-style: none; margin:0; padding: 0}\n",
              ".list-inline>li {display: inline-block}\n",
              ".list-inline>li:not(:last-child)::after {content: \"\\00b7\"; padding: 0 .5ex}\n",
              "</style>\n",
              "<ol class=list-inline><li>'matrix'</li><li>'array'</li></ol>\n"
            ]
          },
          "metadata": {}
        },
        {
          "output_type": "display_data",
          "data": {
            "text/plain": [
              "[1] \"numeric\""
            ],
            "text/latex": "'numeric'",
            "text/markdown": "'numeric'",
            "text/html": [
              "'numeric'"
            ]
          },
          "metadata": {}
        }
      ]
    },
    {
      "cell_type": "markdown",
      "metadata": {
        "id": "rQJO5fCo4-oQ"
      },
      "source": [
        "<hr>\n"
      ]
    },
    {
      "cell_type": "markdown",
      "metadata": {
        "id": "bcI5hS9p4-oQ"
      },
      "source": [
        "#### Scaling R with big data\n",
        "\n",
        "As you learn more about R, if you are interested in exploring platforms that can help you run analyses at scale, you might want to sign up for a free account on [IBM Watson Studio](http://cocl.us/dsx_rp0101en), which allows you to run analyses in R with two Spark executors for free.\n",
        "\n",
        "<hr>\n"
      ]
    },
    {
      "cell_type": "markdown",
      "metadata": {
        "id": "-5lQ5jxL4-oQ"
      },
      "source": [
        "### About the Author:\n",
        "\n",
        "Hi! It's [Rishabh Jain](https://ca.linkedin.com/in/rishabhjain66?cm_mmc=Email_Newsletter-_-Developer_Ed%2BTech-_-WW_WW-_-SkillsNetwork-Courses-IBMDeveloperSkillsNetwork-RP0101EN-SkillsNetwork-20900564&cm_mmca1=000026UJ&cm_mmca2=10006555&cm_mmca3=M12345678&cvosrc=email.Newsletter.M12345678&cvo_campaign=000026UJ&cm_mmc=Email_Newsletter-_-Developer_Ed%2BTech-_-WW_WW-_-SkillsNetwork-Courses-IBMDeveloperSkillsNetwork-RP0101EN-SkillsNetwork-20900564&cm_mmca1=000026UJ&cm_mmca2=10006555&cm_mmca3=M12345678&cvosrc=email.Newsletter.M12345678&cvo_campaign=000026UJ), the author of this notebook. I hope you found R easy to learn! There's lots more to learn about R but you're well on your way. Feel free to connect with me if you have any questions.\n",
        "\n",
        "<hr>\n",
        "\n",
        "Copyright © [IBM Cognitive Class](https://cognitiveclass.ai?cm_mmc=Email_Newsletter-_-Developer_Ed%2BTech-_-WW_WW-_-SkillsNetwork-Courses-IBMDeveloperSkillsNetwork-RP0101EN-SkillsNetwork-20900564&cm_mmca1=000026UJ&cm_mmca2=10006555&cm_mmca3=M12345678&cvosrc=email.Newsletter.M12345678&cvo_campaign=000026UJ&cm_mmc=Email_Newsletter-_-Developer_Ed%2BTech-_-WW_WW-_-SkillsNetwork-Courses-IBMDeveloperSkillsNetwork-RP0101EN-SkillsNetwork-20900564&cm_mmca1=000026UJ&cm_mmca2=10006555&cm_mmca3=M12345678&cvosrc=email.Newsletter.M12345678&cvo_campaign=000026UJ). This notebook and its source code are released under the terms of the [MIT License](https://cognitiveclass.ai/mit-license?cm_mmc=Email_Newsletter-_-Developer_Ed%2BTech-_-WW_WW-_-SkillsNetwork-Courses-IBMDeveloperSkillsNetwork-RP0101EN-SkillsNetwork-20900564&cm_mmca1=000026UJ&cm_mmca2=10006555&cm_mmca3=M12345678&cvosrc=email.Newsletter.M12345678&cvo_campaign=000026UJ&cm_mmc=Email_Newsletter-_-Developer_Ed%2BTech-_-WW_WW-_-SkillsNetwork-Courses-IBMDeveloperSkillsNetwork-RP0101EN-SkillsNetwork-20900564&cm_mmca1=000026UJ&cm_mmca2=10006555&cm_mmca3=M12345678&cvosrc=email.Newsletter.M12345678&cvo_campaign=000026UJ).\n"
      ]
    }
  ]
}